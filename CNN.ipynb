{
 "cells": [
  {
   "cell_type": "code",
   "execution_count": 18,
   "metadata": {},
   "outputs": [],
   "source": [
    "import numpy as np\n",
    "from keras_preprocessing import image\n",
    "import tensorflow as tf\n",
    "from keras.preprocessing.image import ImageDataGenerator\n",
    "from pathlib import Path"
   ]
  },
  {
   "cell_type": "code",
   "execution_count": 2,
   "metadata": {},
   "outputs": [
    {
     "data": {
      "text/plain": [
       "'2.3.0'"
      ]
     },
     "execution_count": 2,
     "metadata": {},
     "output_type": "execute_result"
    }
   ],
   "source": [
    "tf.__version__"
   ]
  },
  {
   "cell_type": "code",
   "execution_count": 3,
   "metadata": {},
   "outputs": [
    {
     "name": "stdout",
     "output_type": "stream",
     "text": [
      "Found 8000 images belonging to 2 classes.\n"
     ]
    }
   ],
   "source": [
    "train_datagen = ImageDataGenerator(\n",
    "        rescale=1./255,\n",
    "        shear_range=0.2,\n",
    "        zoom_range=0.2,\n",
    "        horizontal_flip=True)\n",
    "training_set = train_datagen.flow_from_directory(\n",
    "        'dataset/training_set',\n",
    "        target_size=(64, 64),\n",
    "        batch_size=32,\n",
    "        class_mode='binary')"
   ]
  },
  {
   "cell_type": "code",
   "execution_count": 4,
   "metadata": {},
   "outputs": [
    {
     "name": "stdout",
     "output_type": "stream",
     "text": [
      "Found 2000 images belonging to 2 classes.\n"
     ]
    }
   ],
   "source": [
    "test_datagen = ImageDataGenerator(rescale=1./255)\n",
    "test_set = test_datagen.flow_from_directory(\n",
    "        'dataset/test_set',\n",
    "        target_size=(64, 64),\n",
    "        batch_size=32,\n",
    "        class_mode='binary')"
   ]
  },
  {
   "cell_type": "code",
   "execution_count": 5,
   "metadata": {},
   "outputs": [],
   "source": [
    "cnn = tf.keras.models.Sequential()"
   ]
  },
  {
   "cell_type": "code",
   "execution_count": 6,
   "metadata": {},
   "outputs": [],
   "source": [
    "cnn.add(tf.keras.layers.Conv2D(filters = 32,kernel_size = 3,activation='relu',input_shape=[64,64,3]))\n",
    "cnn.add(tf.keras.layers.MaxPool2D(pool_size=2, strides=2))\n",
    "cnn.add(tf.keras.layers.Conv2D(filters = 32,kernel_size = 3,activation='relu'))\n",
    "cnn.add(tf.keras.layers.MaxPool2D(pool_size=2, strides=2))\n",
    "cnn.add(tf.keras.layers.Flatten())"
   ]
  },
  {
   "cell_type": "code",
   "execution_count": 7,
   "metadata": {},
   "outputs": [
    {
     "name": "stdout",
     "output_type": "stream",
     "text": [
      "Model: \"sequential\"\n",
      "_________________________________________________________________\n",
      "Layer (type)                 Output Shape              Param #   \n",
      "=================================================================\n",
      "conv2d (Conv2D)              (None, 62, 62, 32)        896       \n",
      "_________________________________________________________________\n",
      "max_pooling2d (MaxPooling2D) (None, 31, 31, 32)        0         \n",
      "_________________________________________________________________\n",
      "conv2d_1 (Conv2D)            (None, 29, 29, 32)        9248      \n",
      "_________________________________________________________________\n",
      "max_pooling2d_1 (MaxPooling2 (None, 14, 14, 32)        0         \n",
      "_________________________________________________________________\n",
      "flatten (Flatten)            (None, 6272)              0         \n",
      "_________________________________________________________________\n",
      "dense (Dense)                (None, 128)               802944    \n",
      "_________________________________________________________________\n",
      "dense_1 (Dense)              (None, 1)                 129       \n",
      "=================================================================\n",
      "Total params: 813,217\n",
      "Trainable params: 813,217\n",
      "Non-trainable params: 0\n",
      "_________________________________________________________________\n"
     ]
    }
   ],
   "source": [
    "cnn.add(tf.keras.layers.Dense(units=128,activation='relu'))\n",
    "cnn.add(tf.keras.layers.Dense(units=1,activation='sigmoid'))\n",
    "cnn.summary()"
   ]
  },
  {
   "cell_type": "code",
   "execution_count": 8,
   "metadata": {},
   "outputs": [],
   "source": [
    "cnn.compile(optimizer='adam',loss='binary_crossentropy',metrics=['accuracy'])"
   ]
  },
  {
   "cell_type": "code",
   "execution_count": 9,
   "metadata": {},
   "outputs": [
    {
     "name": "stdout",
     "output_type": "stream",
     "text": [
      "Epoch 1/25\n",
      "250/250 [==============================] - 117s 468ms/step - loss: 0.6625 - accuracy: 0.5880 - val_loss: 0.5973 - val_accuracy: 0.6750\n",
      "Epoch 2/25\n",
      "250/250 [==============================] - 94s 375ms/step - loss: 0.5938 - accuracy: 0.6859 - val_loss: 0.6012 - val_accuracy: 0.6895\n",
      "Epoch 3/25\n",
      "250/250 [==============================] - 94s 377ms/step - loss: 0.5588 - accuracy: 0.7067 - val_loss: 0.5330 - val_accuracy: 0.7245\n",
      "Epoch 4/25\n",
      "250/250 [==============================] - 94s 376ms/step - loss: 0.5321 - accuracy: 0.7294 - val_loss: 0.5244 - val_accuracy: 0.7480\n",
      "Epoch 5/25\n",
      "250/250 [==============================] - 94s 376ms/step - loss: 0.5091 - accuracy: 0.7508 - val_loss: 0.4822 - val_accuracy: 0.7755\n",
      "Epoch 6/25\n",
      "250/250 [==============================] - 94s 377ms/step - loss: 0.4943 - accuracy: 0.7626 - val_loss: 0.5097 - val_accuracy: 0.7585\n",
      "Epoch 7/25\n",
      "250/250 [==============================] - 94s 376ms/step - loss: 0.4711 - accuracy: 0.7713 - val_loss: 0.5230 - val_accuracy: 0.7460\n",
      "Epoch 8/25\n",
      "250/250 [==============================] - 94s 377ms/step - loss: 0.4651 - accuracy: 0.7794 - val_loss: 0.4593 - val_accuracy: 0.7885\n",
      "Epoch 9/25\n",
      "250/250 [==============================] - 95s 378ms/step - loss: 0.4443 - accuracy: 0.7896 - val_loss: 0.4789 - val_accuracy: 0.7740\n",
      "Epoch 10/25\n",
      "250/250 [==============================] - 95s 380ms/step - loss: 0.4328 - accuracy: 0.7946 - val_loss: 0.4918 - val_accuracy: 0.7825\n",
      "Epoch 11/25\n",
      "250/250 [==============================] - 94s 376ms/step - loss: 0.4125 - accuracy: 0.8062 - val_loss: 0.4561 - val_accuracy: 0.7860\n",
      "Epoch 12/25\n",
      "250/250 [==============================] - 95s 379ms/step - loss: 0.4016 - accuracy: 0.8141 - val_loss: 0.4877 - val_accuracy: 0.7825\n",
      "Epoch 13/25\n",
      "250/250 [==============================] - 94s 375ms/step - loss: 0.3938 - accuracy: 0.8227 - val_loss: 0.4626 - val_accuracy: 0.7915\n",
      "Epoch 14/25\n",
      "250/250 [==============================] - 92s 368ms/step - loss: 0.3704 - accuracy: 0.8315 - val_loss: 0.4402 - val_accuracy: 0.8165\n",
      "Epoch 15/25\n",
      "250/250 [==============================] - 92s 367ms/step - loss: 0.3655 - accuracy: 0.8366 - val_loss: 0.4877 - val_accuracy: 0.7890\n",
      "Epoch 16/25\n",
      "250/250 [==============================] - 92s 368ms/step - loss: 0.3572 - accuracy: 0.8366 - val_loss: 0.4344 - val_accuracy: 0.7990\n",
      "Epoch 17/25\n",
      "250/250 [==============================] - 92s 368ms/step - loss: 0.3462 - accuracy: 0.8486 - val_loss: 0.4771 - val_accuracy: 0.7960\n",
      "Epoch 18/25\n",
      "250/250 [==============================] - 92s 368ms/step - loss: 0.3397 - accuracy: 0.8470 - val_loss: 0.4871 - val_accuracy: 0.7880\n",
      "Epoch 19/25\n",
      "250/250 [==============================] - 92s 367ms/step - loss: 0.3136 - accuracy: 0.8643 - val_loss: 0.4417 - val_accuracy: 0.8200\n",
      "Epoch 20/25\n",
      "250/250 [==============================] - 92s 367ms/step - loss: 0.3034 - accuracy: 0.8715 - val_loss: 0.4628 - val_accuracy: 0.8150\n",
      "Epoch 21/25\n",
      "250/250 [==============================] - 91s 365ms/step - loss: 0.2874 - accuracy: 0.8726 - val_loss: 0.4811 - val_accuracy: 0.8140\n",
      "Epoch 22/25\n",
      "250/250 [==============================] - 73s 291ms/step - loss: 0.2827 - accuracy: 0.8786 - val_loss: 0.4689 - val_accuracy: 0.8135\n",
      "Epoch 23/25\n",
      "250/250 [==============================] - 75s 298ms/step - loss: 0.2643 - accuracy: 0.8839 - val_loss: 0.5439 - val_accuracy: 0.7860\n",
      "Epoch 24/25\n",
      "250/250 [==============================] - 74s 297ms/step - loss: 0.2588 - accuracy: 0.8921 - val_loss: 0.4680 - val_accuracy: 0.8185\n",
      "Epoch 25/25\n",
      "250/250 [==============================] - 74s 297ms/step - loss: 0.2555 - accuracy: 0.8906 - val_loss: 0.5049 - val_accuracy: 0.8120\n"
     ]
    },
    {
     "data": {
      "text/plain": [
       "<tensorflow.python.keras.callbacks.History at 0x1c25bc66668>"
      ]
     },
     "execution_count": 9,
     "metadata": {},
     "output_type": "execute_result"
    }
   ],
   "source": [
    "cnn.fit(x=training_set, validation_data = test_set,epochs = 25)"
   ]
  },
  {
   "cell_type": "code",
   "execution_count": 17,
   "metadata": {},
   "outputs": [
    {
     "name": "stdout",
     "output_type": "stream",
     "text": [
      "cat\n"
     ]
    }
   ],
   "source": [
    "test_image = image.load_img('dataset/single_prediction/cat_or_dog_3.jpg',target_size = (64,64))\n",
    "test_image = image.img_to_array(test_image)\n",
    "test_image = np.expand_dims(test_image, axis=0)\n",
    "result = cnn.predict(test_image)\n",
    "training_set.class_indices\n",
    "if result[0][0]  == 1:\n",
    "  prediction = 'dog'\n",
    "else:\n",
    "  prediction = 'cat'\n",
    "\n",
    "print(prediction)"
   ]
  },
  {
   "cell_type": "code",
   "execution_count": 21,
   "metadata": {},
   "outputs": [
    {
     "data": {
      "text/plain": [
       "2823"
      ]
     },
     "execution_count": 21,
     "metadata": {},
     "output_type": "execute_result"
    }
   ],
   "source": [
    "cnn_structure = cnn.to_json()\n",
    "f=Path(\"cnn_structure.json\")\n",
    "f.write_text(cnn_structure)\n",
    "##cnn.sample_weights(\"cnn_weights.h5\")"
   ]
  },
  {
   "cell_type": "code",
   "execution_count": null,
   "metadata": {},
   "outputs": [],
   "source": []
  }
 ],
 "metadata": {
  "kernelspec": {
   "display_name": "Python 3",
   "language": "python",
   "name": "python3"
  },
  "language_info": {
   "codemirror_mode": {
    "name": "ipython",
    "version": 3
   },
   "file_extension": ".py",
   "mimetype": "text/x-python",
   "name": "python",
   "nbconvert_exporter": "python",
   "pygments_lexer": "ipython3",
   "version": "3.6.9"
  }
 },
 "nbformat": 4,
 "nbformat_minor": 2
}
